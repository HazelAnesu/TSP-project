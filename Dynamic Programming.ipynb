{
 "cells": [
  {
   "cell_type": "code",
   "execution_count": 4,
   "metadata": {},
   "outputs": [],
   "source": [
    "import numpy as np\n",
    "from itertools import permutations\n",
    "# useful additional packages \n",
    "import matplotlib.pyplot as plt\n",
    "import matplotlib.axes as axes\n",
    "%matplotlib inline\n",
    "import numpy as np\n",
    "import networkx as nx\n",
    "import itertools\n",
    "from math import *\n",
    "\n",
    "from qiskit import BasicAer\n",
    "from qiskit.tools.visualization import plot_histogram\n",
    "from qiskit.optimization.ising import max_cut, tsp\n",
    "from qiskit.aqua.algorithms import VQE, ExactEigensolver\n",
    "from qiskit.aqua.components.optimizers import SPSA\n",
    "from qiskit.aqua.components.variational_forms import RY\n",
    "from qiskit.aqua import QuantumInstance\n",
    "from qiskit.optimization.ising.common import sample_most_likely\n",
    "import seaborn as sns\n",
    "\n",
    "# setup aqua logging\n",
    "import logging\n",
    "from qiskit.aqua import set_qiskit_aqua_logging\n",
    "# set_qiskit_aqua_logging(logging.DEBUG)  # choose INFO, DEBUG to see the log"
   ]
  },
  {
   "cell_type": "code",
   "execution_count": 5,
   "metadata": {},
   "outputs": [],
   "source": [
    "A = np.array(([0,6,9,3],[6,0,4,8],[9,4,0,2],[3,8,2,0]))"
   ]
  },
  {
   "cell_type": "code",
   "execution_count": 6,
   "metadata": {},
   "outputs": [],
   "source": [
    "def change(x , q):\n",
    "    \n",
    "    if type(q) == int:\n",
    "        z = []\n",
    "\n",
    "        for i in range(1,len(x)+1):\n",
    "            if i != q:\n",
    "                z.append(i)\n",
    "    else:\n",
    "        z = list(set(x) - set(q))\n",
    "      \n",
    "        \n",
    "    return z"
   ]
  },
  {
   "cell_type": "code",
   "execution_count": 14,
   "metadata": {},
   "outputs": [
    {
     "data": {
      "text/plain": [
       "(15.0, 3)"
      ]
     },
     "execution_count": 14,
     "metadata": {},
     "output_type": "execute_result"
    }
   ],
   "source": [
    "def dynamicprogramming(A):\n",
    "    a = factorial(len(A)-1)\n",
    "    b = np.zeros((a,a))\n",
    "    s = 0\n",
    "    set1 = change(np.arange(len(A) - 1) ,s)\n",
    "    lis = []\n",
    "    c = permutations(set1)\n",
    "    d = []\n",
    "    for i in c:\n",
    "        d.append(np.asarray(i))\n",
    "    p = len(d[0])\n",
    "\n",
    "    for j in range (len(d)):\n",
    "        for k in range(len(d[0])):\n",
    "            b[j,k] = d[j][k]\n",
    "\n",
    "    \n",
    "    for i in range(len(b) ):\n",
    "        for k in range(1,len(b)-p):\n",
    "            if k == 1:\n",
    "                b[i,k+2] = A[int(b[i,k]) , int(b[i,k+1])] + A[int(b[i,k+1]) , s]\n",
    "       \n",
    "    m = []\n",
    "    for k in range (len(d)):\n",
    "            for l in range (1):\n",
    "                m.append((A[int(b[k,l]) , int(b[k,l+1])] + b[k,p] ,k))\n",
    "    b[:,p] = 0\n",
    "    for i in range (0,len(m) , p-1):\n",
    "        t = min(m[i:i+2])\n",
    "\n",
    "        b[t[1] , p] = t[0]\n",
    "\n",
    "    z = []\n",
    "    for j in range(len(d)):\n",
    "        if b[j,p] != 0:\n",
    "            z.append(A[int(b[j,0]),0] + b[j,3])\n",
    "\n",
    "    return(min(z) , p)\n",
    "dynamicprogramming(A)"
   ]
  },
  {
   "cell_type": "code",
   "execution_count": null,
   "metadata": {},
   "outputs": [],
   "source": []
  },
  {
   "cell_type": "code",
   "execution_count": null,
   "metadata": {},
   "outputs": [],
   "source": []
  }
 ],
 "metadata": {
  "kernelspec": {
   "display_name": "Python 3",
   "language": "python",
   "name": "python3"
  },
  "language_info": {
   "codemirror_mode": {
    "name": "ipython",
    "version": 3
   },
   "file_extension": ".py",
   "mimetype": "text/x-python",
   "name": "python",
   "nbconvert_exporter": "python",
   "pygments_lexer": "ipython3",
   "version": "3.6.5"
  }
 },
 "nbformat": 4,
 "nbformat_minor": 2
}
