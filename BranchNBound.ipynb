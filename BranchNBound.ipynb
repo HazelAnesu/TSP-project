{
 "cells": [
  {
   "cell_type": "markdown",
   "metadata": {},
   "source": [
    "# Branch and Bound"
   ]
  },
  {
   "cell_type": "code",
   "execution_count": null,
   "metadata": {},
   "outputs": [],
   "source": [
    "import numpy as np\n",
    "from itertools import permutations\n",
    "# useful additional packages \n",
    "import matplotlib.pyplot as plt\n",
    "import matplotlib.axes as axes\n",
    "%matplotlib inline\n",
    "import numpy as np\n",
    "import networkx as nx\n",
    "import itertools\n",
    "from math import *\n",
    "\n",
    "from qiskit import BasicAer\n",
    "from qiskit.tools.visualization import plot_histogram\n",
    "from qiskit.optimization.ising import max_cut, tsp\n",
    "from qiskit.aqua.algorithms import VQE, ExactEigensolver\n",
    "from qiskit.aqua.components.optimizers import SPSA\n",
    "from qiskit.aqua.components.variational_forms import RY\n",
    "from qiskit.aqua import QuantumInstance\n",
    "from qiskit.optimization.ising.common import sample_most_likely\n",
    "import seaborn as sns\n",
    "\n",
    "# setup aqua logging\n",
    "import logging\n",
    "from qiskit.aqua import set_qiskit_aqua_logging\n",
    "# set_qiskit_aqua_logging(logging.DEBUG)  # choose INFO, DEBUG to see the log"
   ]
  },
  {
   "cell_type": "code",
   "execution_count": null,
   "metadata": {},
   "outputs": [],
   "source": []
  },
  {
   "cell_type": "code",
   "execution_count": null,
   "metadata": {},
   "outputs": [],
   "source": [
    "def lowerb(A):\n",
    "    F = np.zeros((len(A),len(A)))\n",
    "    v = 0\n",
    "    s = 0\n",
    "    for y in range(len(A)):\n",
    "        for l in range(len(A)):\n",
    "            F[y,l] = A[y,l]\n",
    "            \n",
    "    for i in range (len(A)):\n",
    "        F[i,i] = 1000000\n",
    "        w = F[i,:].min()\n",
    "        v = w + v\n",
    "        for j in range(len(A)):\n",
    "            F[i,j] = F[i,j] - w\n",
    "    F[0,0] = 1000000\n",
    "    for r in range(len(A)):\n",
    "        F[r,r] = 1000000\n",
    "        x = F[:,r].min()\n",
    "        s = x + s\n",
    "        for o in range(len(A)):\n",
    "            F[o,r] = F[o,r] - x\n",
    "    F[0,0] = 1000000\n",
    "    return F, s+v"
   ]
  },
  {
   "cell_type": "code",
   "execution_count": null,
   "metadata": {},
   "outputs": [],
   "source": [
    "def reduced(A,a,b):\n",
    "    B = np.zeros((len(A),len(A)))\n",
    "    g = 0\n",
    "    u = 0\n",
    "    for t in range(1):\n",
    "        for i in range(len(A)):\n",
    "            for j in range(len(A)):\n",
    "                B[i,j] = A[i,j]\n",
    "                B[i,i] = 1000000\n",
    "                B[a,j] = 1000000\n",
    "                B[i,b] = 1000000\n",
    "                B[a,b] =1000000\n",
    "                B[b,a] = 1000000\n",
    "        if B[i,j] <= 50:\n",
    "            for k in range(len(B)):\n",
    "                p = B[k,:].min()\n",
    "                if p < 5000:\n",
    "                    g = g + p\n",
    "                for l in range(len(B)):\n",
    "                    B[k,l] = B[k,l] - p\n",
    "\n",
    "#                 B[a,k] = 1000\n",
    "            for m in range(len(B)):\n",
    "                q = B[:,m].min()\n",
    "                if q <= 5000:\n",
    "                    u = u + q\n",
    "                for n in range(len(B)):\n",
    "                    if B[n,m] <=5000:\n",
    "                        B[n,m] = B[n,m] - q \n",
    "                        \n",
    "                        \n",
    "#             B[m,b] = 1000\n",
    "#         B[0,b] = 1000\n",
    "\n",
    "    return B, u+g"
   ]
  },
  {
   "cell_type": "code",
   "execution_count": 1,
   "metadata": {},
   "outputs": [],
   "source": [
    "def bnb(A):\n",
    "    overall = []\n",
    "    for k in range (len(A)):\n",
    "        new_matrix = lowerb(A)[0]\n",
    "        lower_bound = lowerb(A)[1]\n",
    "        M = []\n",
    "        B = []\n",
    "\n",
    "        P = []\n",
    "        ind = 0\n",
    "        P.append(k)\n",
    "\n",
    "        for i in range(k,len(A) - 1):\n",
    "            for j in range(i+1,len(A)):\n",
    "                new_matrix1 = reduced(new_matrix , i,j)[0]\n",
    "                bound = reduced(new_matrix,i,j)[1]\n",
    "                M.append(new_matrix1)\n",
    "                B.append(bound + A[i,j] + lower_bound)\n",
    "    #             print(bound + A[i,j] + lower_bound)\n",
    "\n",
    "            branch = B.index(min(B))\n",
    "            ind = ind + branch \n",
    "            lower_bound = min(B)\n",
    "            new_matrix = M[branch]\n",
    "\n",
    "            M = []\n",
    "            B = []\n",
    "        lower_bound = lower_bound + A[branch , 0]\n",
    "        overall.append(lower_bound)\n",
    "#     print(min(overall))\n",
    "    return min(overall)"
   ]
  },
  {
   "cell_type": "code",
   "execution_count": null,
   "metadata": {},
   "outputs": [],
   "source": []
  },
  {
   "cell_type": "code",
   "execution_count": null,
   "metadata": {},
   "outputs": [],
   "source": []
  }
 ],
 "metadata": {
  "kernelspec": {
   "display_name": "Python 3",
   "language": "python",
   "name": "python3"
  },
  "language_info": {
   "codemirror_mode": {
    "name": "ipython",
    "version": 3
   },
   "file_extension": ".py",
   "mimetype": "text/x-python",
   "name": "python",
   "nbconvert_exporter": "python",
   "pygments_lexer": "ipython3",
   "version": "3.6.5"
  }
 },
 "nbformat": 4,
 "nbformat_minor": 2
}
