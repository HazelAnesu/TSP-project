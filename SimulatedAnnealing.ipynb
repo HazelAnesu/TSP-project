{
 "cells": [
  {
   "cell_type": "code",
   "execution_count": 472,
   "metadata": {},
   "outputs": [],
   "source": [
    "import numpy as np\n",
    "from itertools import permutations\n",
    "# useful additional packages \n",
    "import matplotlib.pyplot as plt\n",
    "import matplotlib.axes as axes\n",
    "%matplotlib inline\n",
    "import numpy as np\n",
    "import networkx as nx\n",
    "import itertools\n",
    "from math import *\n",
    "from satsp import solver\n",
    "import networkx as nx\n",
    "import numpy as np\n",
    "import matplotlib.pyplot as plt\n",
    "import seaborn as sns\n",
    "from qiskit import BasicAer\n",
    "from qiskit.tools.visualization import plot_histogram\n",
    "from qiskit.optimization.ising import max_cut, tsp\n",
    "from qiskit.aqua.algorithms import VQE, ExactEigensolver\n",
    "from qiskit.aqua.components.optimizers import SPSA\n",
    "from qiskit.aqua.components.variational_forms import RY\n",
    "from qiskit.aqua import QuantumInstance\n",
    "from qiskit.optimization.ising.common import sample_most_likely\n",
    "import seaborn as sns\n",
    "\n",
    "# setup aqua logging\n",
    "import logging\n",
    "from qiskit.aqua import set_qiskit_aqua_logging\n",
    "# set_qiskit_aqua_logging(logging.DEBUG)  # choose INFO, DEBUG to see the log"
   ]
  },
  {
   "cell_type": "code",
   "execution_count": 473,
   "metadata": {},
   "outputs": [],
   "source": [
    "def eva(x,M):\n",
    "#     x = s\n",
    "    z=0\n",
    "    for i in range (len(A)-1):\n",
    "        z = z + A[x[i],x[i+1]]\n",
    "\n",
    "    z = z + A[x[-1] , x[0]]\n",
    "    return z\n"
   ]
  },
  {
   "cell_type": "code",
   "execution_count": 474,
   "metadata": {},
   "outputs": [],
   "source": [
    "def SimuAnealing(A, T , alpha):\n",
    "    f = np.arange(len(A))\n",
    "    p = eva(f,A) \n",
    "\n",
    "    while T > (4.4*np.exp(-423)):\n",
    "\n",
    "        for h in range (30):\n",
    "            q = np.random.randint(len(A) )\n",
    "            q1 =  np.random.randint(len(A) )\n",
    "            while q == q1:\n",
    "                q = np.random.randint(len(A) )\n",
    "                \n",
    "            f = f\n",
    "            g = [i for i in f]\n",
    "            temp1 = g[q]\n",
    "            g[q] = g[q1]\n",
    "            g[q1] = temp1\n",
    "\n",
    "            x = eva(g,A)\n",
    "\n",
    "            if p > x:\n",
    "                p = x\n",
    "                f = g\n",
    "\n",
    "            else:\n",
    "\n",
    "                prob = np.exp(-(x-p)/T)\n",
    "                if prob > np.random.random():\n",
    "                    p = x\n",
    "                    f = g\n",
    "                \n",
    "        T = alpha*T\n",
    "    return p ,f\n"
   ]
  },
  {
   "cell_type": "code",
   "execution_count": null,
   "metadata": {},
   "outputs": [],
   "source": []
  }
 ],
 "metadata": {
  "kernelspec": {
   "display_name": "Python 3",
   "language": "python",
   "name": "python3"
  },
  "language_info": {
   "codemirror_mode": {
    "name": "ipython",
    "version": 3
   },
   "file_extension": ".py",
   "mimetype": "text/x-python",
   "name": "python",
   "nbconvert_exporter": "python",
   "pygments_lexer": "ipython3",
   "version": "3.6.5"
  }
 },
 "nbformat": 4,
 "nbformat_minor": 2
}
