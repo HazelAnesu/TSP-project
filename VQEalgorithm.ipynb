{
 "cells": [
  {
   "cell_type": "code",
   "execution_count": 1,
   "metadata": {},
   "outputs": [],
   "source": [
    "import numpy as np\n",
    "from qiskit import (QuantumCircuit,execute,Aer)\n",
    "from qiskit.visualization import plot_histogram\n",
    "from qiskit import*\n",
    "from django.db import models\n",
    "from docplex.mp.model import Model                                                                                                      \n",
    "import docplex\n",
    "# import qiskit.optimization.ising.tsp.TspData as tp\n",
    "from qiskit.optimization.ising.tsp import TspData\n",
    "# from qiskit.aqua.optimization import TspData\n",
    "import matplotlib.pyplot as plt\n",
    "import matplotlib.axes as axes\n",
    "%matplotlib inline\n",
    "import numpy as np\n",
    "import networkx as nx\n",
    "\n",
    "from qiskit import BasicAer\n",
    "from qiskit.tools.visualization import plot_histogram\n",
    "from qiskit.optimization.ising import tsp\n",
    "from qiskit.aqua.algorithms import VQE, ExactEigensolver\n",
    "from qiskit.aqua.algorithms import QAOA, ExactEigensolver\n",
    "\n",
    "from qiskit.aqua.components.optimizers import SPSA\n",
    "from qiskit.aqua.components.variational_forms import RY\n",
    "from qiskit.aqua import QuantumInstance\n",
    "from qiskit.optimization.ising.common import sample_most_likely\n",
    "from qiskit.aqua.components.optimizers import COBYLA\n",
    "\n",
    "# setup aqua logging\n",
    "import logging\n",
    "from qiskit.aqua import set_qiskit_aqua_logging\n",
    "from qiskit import IBMQ\n",
    "\n",
    "from qiskit import ClassicalRegister, QuantumRegister, QuantumCircuit\n",
    "from qiskit import execute\n",
    "from qiskit.tools.jupyter import *\n",
    "from qiskit.providers.ibmq import least_busy"
   ]
  },
  {
   "cell_type": "code",
   "execution_count": 16,
   "metadata": {},
   "outputs": [],
   "source": [
    "from qiskit import IBMQ\n",
    "IBMQ.save_account()"
   ]
  },
  {
   "cell_type": "code",
   "execution_count": null,
   "metadata": {},
   "outputs": [],
   "source": [
    "IBMQ.load_account()"
   ]
  },
  {
   "cell_type": "code",
   "execution_count": 32,
   "metadata": {},
   "outputs": [],
   "source": [
    "def data(p):\n",
    "    p = \"gr17.tsp.txt\"\n",
    "    anyway = open(p , \"r\")\n",
    "    faint = anyway.read().split()\n",
    "\n",
    "    a = []\n",
    "    for i in range(len(faint)):\n",
    "        a.append(int(faint[i]))\n",
    "\n",
    "    b = np.zeros((17,17))\n",
    "    t = []\n",
    "    for i in range(len(a)):\n",
    "        if a[i] != 0:\n",
    "            t.append(i)\n",
    "    counts=0\n",
    "    for k in range(len(b) - 1):\n",
    "        for l in range(k+1 , len(b)):\n",
    "            b[k][l] = a[t[counts]]\n",
    "            counts+=1\n",
    "\n",
    "\n",
    "    G = b+ b.T\n",
    "    return G\n",
    "p = \"gr17.tsp.txt\"\n",
    "\n"
   ]
  },
  {
   "cell_type": "code",
   "execution_count": 33,
   "metadata": {},
   "outputs": [
    {
     "data": {
      "text/plain": [
       "array([[  0., 240., 140.],\n",
       "       [240.,   0., 237.],\n",
       "       [140., 237.,   0.]])"
      ]
     },
     "execution_count": 33,
     "metadata": {},
     "output_type": "execute_result"
    }
   ],
   "source": [
    "def randomM(rand):\n",
    "    G = data(p)\n",
    "    rand = 3\n",
    "    new = np.random.randint(rand, len(G) - rand)\n",
    "\n",
    "    A = G[new:rand+new,new:rand+new]\n",
    "    return A\n",
    "randomM(3)"
   ]
  },
  {
   "cell_type": "code",
   "execution_count": 22,
   "metadata": {},
   "outputs": [],
   "source": [
    "def vqealgo(A):\n",
    "    x = TspData('tmp',len(A),np.zeros((3,3)),A)\n",
    "    qubitOp, offset = tsp.get_operator(x)\n",
    "\n",
    "    seed = 10598\n",
    "    spsa = SPSA(max_trials = 300)\n",
    "    ry = RY(qubitOp.num_qubits, depth=5, entanglement='linear')\n",
    "    vqe = VQE(qubitOp, ry, spsa)\n",
    "\n",
    "    my_provider = IBMQ.get_provider('ibm-q-wits')\n",
    "    my_provider.backends()\n",
    "    device = my_provider.get_backend('ibmq_16_melbourne')\n",
    "\n",
    "    quantum_instance = QuantumInstance(device, seed_simulator=seed, seed_transpiler=seed , skip_qobj_validation = False,shots = 100 )\n",
    "\n",
    "    result = vqe.run(quantum_instance)\n",
    "    w = sample_most_likely(result['eigvecs'][0])\n",
    "    y =  tsp.tsp_feasible(w)\n",
    "    t =   result['eval_time']\n",
    "\n",
    "    z = tsp.get_tsp_solution(w)\n",
    "    p =  tsp.tsp_value(z, A)\n",
    " \n",
    "    return (t , y , p)\n",
    "vqealgo(A)"
   ]
  },
  {
   "cell_type": "code",
   "execution_count": null,
   "metadata": {},
   "outputs": [],
   "source": []
  }
 ],
 "metadata": {
  "kernelspec": {
   "display_name": "Python 3",
   "language": "python",
   "name": "python3"
  },
  "language_info": {
   "codemirror_mode": {
    "name": "ipython",
    "version": 3
   },
   "file_extension": ".py",
   "mimetype": "text/x-python",
   "name": "python",
   "nbconvert_exporter": "python",
   "pygments_lexer": "ipython3",
   "version": "3.6.5"
  }
 },
 "nbformat": 4,
 "nbformat_minor": 2
}
