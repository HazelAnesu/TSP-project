{
 "cells": [
  {
   "cell_type": "code",
   "execution_count": 1,
   "metadata": {},
   "outputs": [],
   "source": [
    "import numpy as np\n",
    "from itertools import permutations\n",
    "# useful additional packages \n",
    "import matplotlib.pyplot as plt\n",
    "import matplotlib.axes as axes\n",
    "%matplotlib inline\n",
    "import numpy as np\n",
    "import networkx as nx\n",
    "import itertools\n",
    "from math import *\n",
    "\n",
    "from qiskit import BasicAer\n",
    "from qiskit.tools.visualization import plot_histogram\n",
    "from qiskit.optimization.ising import max_cut, tsp\n",
    "from qiskit.aqua.algorithms import VQE, ExactEigensolver\n",
    "from qiskit.aqua.components.optimizers import SPSA\n",
    "from qiskit.aqua.components.variational_forms import RY\n",
    "from qiskit.aqua import QuantumInstance\n",
    "from qiskit.optimization.ising.common import sample_most_likely\n",
    "import seaborn as sns\n",
    "\n",
    "# setup aqua logging\n",
    "import logging\n",
    "from qiskit.aqua import set_qiskit_aqua_logging"
   ]
  },
  {
   "cell_type": "code",
   "execution_count": 2,
   "metadata": {},
   "outputs": [],
   "source": [
    "def eva(x,M):\n",
    "    z=0\n",
    "    for i in range (len(A)-1):\n",
    "        z = z + A[x[i],x[i+1]]\n",
    "\n",
    "    z = z + A[x[-1] , x[0]]\n",
    "    return z"
   ]
  },
  {
   "cell_type": "code",
   "execution_count": 4,
   "metadata": {},
   "outputs": [],
   "source": [
    "def BNB(A):\n",
    "    b = np.arange(0,len(A))\n",
    "    c = permutations(b)\n",
    "    y = []\n",
    "    m  = []\n",
    "    for l in c:\n",
    "        y.append((np.asarray(l)))\n",
    "    v = int(factorial(len(A))/len(A))\n",
    "    initial = y[0:v]\n",
    "    best = eva(initial[0] , A)\n",
    "    z = 0\n",
    "    for i in initial:\n",
    "            z = 0\n",
    "            for j in range(len(i) - 1):\n",
    "                z = z + A[i[j] , i[j+1]]\n",
    "                if z > best:\n",
    "                    break\n",
    "                else:\n",
    "                    continue\n",
    "            z = z + A[i[-1],i[0]]\n",
    "            if z <=best:\n",
    "                best = z\n",
    "    return best\n",
    "\n"
   ]
  },
  {
   "cell_type": "code",
   "execution_count": null,
   "metadata": {},
   "outputs": [],
   "source": []
  },
  {
   "cell_type": "code",
   "execution_count": null,
   "metadata": {},
   "outputs": [],
   "source": []
  }
 ],
 "metadata": {
  "kernelspec": {
   "display_name": "Python 3",
   "language": "python",
   "name": "python3"
  },
  "language_info": {
   "codemirror_mode": {
    "name": "ipython",
    "version": 3
   },
   "file_extension": ".py",
   "mimetype": "text/x-python",
   "name": "python",
   "nbconvert_exporter": "python",
   "pygments_lexer": "ipython3",
   "version": "3.6.5"
  }
 },
 "nbformat": 4,
 "nbformat_minor": 2
}
