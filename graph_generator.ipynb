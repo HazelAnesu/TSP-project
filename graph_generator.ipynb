{
 "cells": [
  {
   "cell_type": "markdown",
   "metadata": {},
   "source": [
    "# Problem\n",
    "\n",
    "The selected data from the TSPLIB are one-dimensional distance matrices, thus, other than plotting heatmaps, we cannot see the \"approximate\" euclidean distance from one another.\n",
    "\n",
    "This is an example to achieve an approximate representation using networkX."
   ]
  },
  {
   "cell_type": "code",
   "execution_count": 75,
   "metadata": {},
   "outputs": [
    {
     "data": {
      "image/png": "[encoded data removed]",
      "text/plain": [
       "<Figure size 432x288 with 1 Axes>"
      ]
     },
     "metadata": {},
     "output_type": "display_data"
    }
   ],
   "source": [
    "import networkx as nx\n",
    "import numpy as np\n",
    "import matplotlib.pyplot as plt\n",
    "import seaborn as sns\n",
    "\n",
    "A   = 100*np.random.rand(5, 5)\n",
    "G   = nx.from_numpy_matrix(A)\n",
    "pos = nx.spring_layout(G)\n",
    "\n",
    "fig = plt.figure()\n",
    "\n",
    "nx.draw_networkx_nodes(G, pos, node_size=100)\n",
    "#fig.set_facecolor(\"#00000F\")\n",
    "plt.show()\n",
    "\n"
   ]
  }
 ],
 "metadata": {
  "kernelspec": {
   "display_name": "Python 3",
   "language": "python",
   "name": "python3"
  },
  "language_info": {
   "codemirror_mode": {
    "name": "ipython",
    "version": 3
   },
   "file_extension": ".py",
   "mimetype": "text/x-python",
   "name": "python",
   "nbconvert_exporter": "python",
   "pygments_lexer": "ipython3",
   "version": "3.7.6"
  }
 },
 "nbformat": 4,
 "nbformat_minor": 4
}
