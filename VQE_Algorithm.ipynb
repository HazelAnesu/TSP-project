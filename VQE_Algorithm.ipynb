{
 "cells": [
  {
   "cell_type": "code",
   "execution_count": 10,
   "metadata": {},
   "outputs": [],
   "source": [
    "from qiskit import (QuantumCircuit,execute,Aer)\n",
    "from qiskit.visualization import plot_histogram\n",
    "from qiskit import*\n",
    "from django.db import models\n",
    "from docplex.mp.model import Model                                                                                                      \n",
    "import docplex\n",
    "import numpy as np\n",
    "from itertools import permutations\n",
    "import gzip\n",
    "import pandas as pd\n",
    "# import qiskit.optimization.ising.tsp.TspData as tp\n",
    "from qiskit.optimization.ising.tsp import TspData\n",
    "# from qiskit.aqua.optimization import TspData\n",
    "import matplotlib.pyplot as plt\n",
    "import matplotlib.axes as axes\n",
    "%matplotlib inline\n",
    "import numpy as np\n",
    "import networkx as nx\n",
    "import time\n",
    "from qiskit import BasicAer\n",
    "from qiskit.tools.visualization import plot_histogram\n",
    "from qiskit.optimization.ising import tsp\n",
    "from qiskit.aqua.algorithms import VQE, ExactEigensolver\n",
    "from qiskit.aqua.algorithms import QAOA, ExactEigensolver\n",
    "\n",
    "from qiskit.aqua.components.optimizers import SPSA\n",
    "from qiskit.aqua.components.variational_forms import RY\n",
    "from qiskit.aqua import QuantumInstance\n",
    "from qiskit.optimization.ising.common import sample_most_likely\n",
    "from qiskit.aqua.components.optimizers import COBYLA\n",
    "\n",
    "# setup aqua logging\n",
    "import logging\n",
    "from qiskit.aqua import set_qiskit_aqua_logging\n",
    "from qiskit import IBMQ\n",
    "\n",
    "from qiskit import ClassicalRegister, QuantumRegister, QuantumCircuit\n",
    "from qiskit import execute\n",
    "from qiskit.tools.jupyter import *\n",
    "from qiskit.providers.ibmq import least_busy"
   ]
  },
  {
   "cell_type": "code",
   "execution_count": 11,
   "metadata": {},
   "outputs": [],
   "source": [
    "from qiskit import IBMQ\n",
    "IBMQ.save_account('faf8747c025d9895e5d8273432c97ba5fb82e352200b4a153707adff0a5620e06b1f760fbf9a3a9988486f23698bc537c5e9d82979ee4ba699618a43eee1130d',overwrite = True)"
   ]
  },
  {
   "cell_type": "code",
   "execution_count": 12,
   "metadata": {},
   "outputs": [
    {
     "data": {
      "text/plain": [
       "<AccountProvider for IBMQ(hub='ibm-q', group='open', project='main')>"
      ]
     },
     "execution_count": 12,
     "metadata": {},
     "output_type": "execute_result"
    }
   ],
   "source": [
    "IBMQ.load_account()"
   ]
  },
  {
   "cell_type": "code",
   "execution_count": 13,
   "metadata": {},
   "outputs": [],
   "source": [
    "G = []"
   ]
  },
  {
   "cell_type": "code",
   "execution_count": 14,
   "metadata": {},
   "outputs": [
    {
     "name": "stdout",
     "output_type": "stream",
     "text": [
      "Completed Successfully\n"
     ]
    }
   ],
   "source": [
    "p = [4,5,6,7,8,9,10,11]\n",
    "q = [i**(2) for i in p ]\n",
    "m = 0\n",
    "v = open(\"Matrices.txt\"  , \"r\")\n",
    "w = v.read().split()\n",
    "for i in range (len(w)):\n",
    "    w[i] = int(float(w[i]))\n",
    "for i in range (len(q)):\n",
    "    G.append(np.reshape(w[m:m+q[i]] , (p[i] , p[i])))\n",
    "    m = m + q[i]\n",
    "print('Completed Successfully')"
   ]
  },
  {
   "cell_type": "code",
   "execution_count": 4,
   "metadata": {},
   "outputs": [],
   "source": [
    "#Using Aer Backends\n",
    "def VQE1(n, qubitOp,offset, s):\n",
    "    seed = 10598\n",
    "    start = time.time()\n",
    "    spsa = SPSA(max_trials=n)\n",
    "    ry = RY(qubitOp.num_qubits, depth=5, entanglement='linear')\n",
    "    vqe =  VQE(qubitOp, ry, spsa)\n",
    "\n",
    "    backend = BasicAer.get_backend('statevector_simulator')\n",
    "\n",
    "    quantum_instance = QuantumInstance(backend, seed_simulator=seed, seed_transpiler=seed,shots = s)\n",
    "\n",
    "    result = vqe.run(quantum_instance)\n",
    "    end = time.time()\n",
    "    t = end - start\n",
    "    x = sample_most_likely(result['eigvecs'][0])\n",
    "\n",
    "    return  tsp.tsp_feasible(x) , result , t"
   ]
  },
  {
   "cell_type": "code",
   "execution_count": 7,
   "metadata": {},
   "outputs": [],
   "source": [
    "x = TspData('tmp',len(G[0]),np.zeros((3,3)),G[0])\n",
    "qubitOp ,offset = tsp.get_operator(x)\n",
    "VQE1(120, qubitOp,offset, 700)"
   ]
  },
  {
   "cell_type": "code",
   "execution_count": null,
   "metadata": {},
   "outputs": [],
   "source": [
    "#Grid Search VQE \n",
    "l = np.arange(100,300,20) #max trails\n",
    "s = np.arange(100, 1024 , 200) # shots\n",
    "for k in range(1):\n",
    "    f = []\n",
    "    for i in range(len(l)):\n",
    "        for j in range(len(s)):\n",
    "            h = G[0]\n",
    "            x = TspData('tmp',len(h),np.zeros((3,3)),h)\n",
    "            qubitOp ,offset = tsp.get_operator(x)\n",
    "            a = VQE1(int(l[i]), qubitOp,offset, s[j])\n",
    "            f.append((a, l[i] , s[j]))\n",
    "            print('Iteration:',i,j)\n",
    "    p = 0\n",
    "    for m in f:\n",
    "        if m[0] == True and p != -1:\n",
    "            print('Feasible')\n",
    "            D[k,0] = len(V[k])\n",
    "            #max trails\n",
    "            D[k,1] = m[1]\n",
    "            #shots\n",
    "            D[k,2] = m[2]\n",
    "            p = -1\n",
    "        else:\n",
    "            print('Infeasible')\n",
    "print('Successfully Complete')"
   ]
  },
  {
   "cell_type": "code",
   "execution_count": 8,
   "metadata": {},
   "outputs": [],
   "source": [
    "#Using actual quantum device\n",
    "def VQE2(n,qubitOp,offset,s):\n",
    "    seed = 10598\n",
    "    f = time.clock()\n",
    "    spsa = SPSA(max_trials = n)\n",
    "    ry = RY(qubitOp.num_qubits, depth=5, entanglement='linear')\n",
    "    vqe = VQE(qubitOp, ry, spsa)\n",
    "    my_provider = IBMQ.get_provider('ibm-q-wits')\n",
    "    my_provider.backends()\n",
    "    device = my_provider.get_backend('ibmq_cambridge')\n",
    "\n",
    "    quantum_instance = QuantumInstance(device, seed_simulator=seed, seed_transpiler=seed , skip_qobj_validation = False,shots = s )\n",
    "\n",
    "    result = vqe.run(quantum_instance)\n",
    "    g = time.clock()\n",
    "    \n",
    "    return"
   ]
  },
  {
   "cell_type": "code",
   "execution_count": 16,
   "metadata": {},
   "outputs": [],
   "source": [
    "x = TspData('tmp',len(G[0]),np.zeros((3,3)),G[0])\n",
    "qubitOp ,offset = tsp.get_operator(x)\n",
    "VQE2(120, qubitOp,offset, 700)"
   ]
  },
  {
   "cell_type": "code",
   "execution_count": null,
   "metadata": {},
   "outputs": [],
   "source": []
  }
 ],
 "metadata": {
  "kernelspec": {
   "display_name": "Python 3",
   "language": "python",
   "name": "python3"
  },
  "language_info": {
   "codemirror_mode": {
    "name": "ipython",
    "version": 3
   },
   "file_extension": ".py",
   "mimetype": "text/x-python",
   "name": "python",
   "nbconvert_exporter": "python",
   "pygments_lexer": "ipython3",
   "version": "3.6.5"
  }
 },
 "nbformat": 4,
 "nbformat_minor": 2
}
