{
 "cells": [
  {
   "cell_type": "code",
   "execution_count": 24,
   "metadata": {},
   "outputs": [],
   "source": [
    "import numpy as np\n",
    "from itertools import permutations\n",
    "# useful additional packages \n",
    "import matplotlib.pyplot as plt\n",
    "import matplotlib.axes as axes\n",
    "%matplotlib inline\n",
    "import numpy as np\n",
    "import networkx as nx\n",
    "import itertools\n",
    "from math import *\n",
    "from satsp import solver\n",
    "import networkx as nx\n",
    "import numpy as np\n",
    "import matplotlib.pyplot as plt\n",
    "import seaborn as sns\n",
    "from qiskit import BasicAer\n",
    "from qiskit.tools.visualization import plot_histogram\n",
    "from qiskit.optimization.ising import max_cut, tsp\n",
    "from qiskit.aqua.algorithms import VQE, ExactEigensolver\n",
    "from qiskit.aqua.components.optimizers import SPSA\n",
    "from qiskit.aqua.components.variational_forms import RY\n",
    "from qiskit.aqua import QuantumInstance\n",
    "from qiskit.optimization.ising.common import sample_most_likely\n",
    "import seaborn as sns\n",
    "\n",
    "# setup aqua logging\n",
    "import logging\n",
    "from qiskit.aqua import set_qiskit_aqua_logging\n",
    "# set_qiskit_aqua_logging(logging.DEBUG)  # choose INFO, DEBUG to see the log"
   ]
  },
  {
   "cell_type": "code",
   "execution_count": 27,
   "metadata": {},
   "outputs": [],
   "source": [
    "A = [\"gr17.tsp.txt\" ,\"gr21.tsp.txt\",  \"gr24.tsp.txt\" , \"dantzig42.tsp.txt\" , \"swiss42.tsp.txt\", \"hk48.tsp.txt\", \"gr48.tsp.txt\",\"brazil58.tsp.txt\" ]\n",
    "du = [17,21,24,42,42,48,48,58]#size of datasets"
   ]
  },
  {
   "cell_type": "code",
   "execution_count": 28,
   "metadata": {},
   "outputs": [],
   "source": [
    "def formatting(A,du):\n",
    "    S = A\n",
    "    nu = du\n",
    "    K = []\n",
    "    for i in range(len(nu)):\n",
    "\n",
    "        g = open(S[i]  , \"r\")\n",
    "        f = g.read().split()\n",
    "\n",
    "        r = np.zeros((nu[i],nu[i]))\n",
    "        n = []\n",
    "        for i in range(len(f)):\n",
    "            f[i] = int(f[i])\n",
    "\n",
    "            if f[i] != 0:\n",
    "                n.append(f[i])\n",
    "        count = 0\n",
    "        for l in range(len(r) -1):\n",
    "            for k in range(l+1, len(r)):\n",
    "                r[l,k] = n[count]\n",
    "                count = count + 1\n",
    "\n",
    "        B = r + r.T\n",
    "        K.append(B)\n",
    "    return K \n"
   ]
  },
  {
   "cell_type": "code",
   "execution_count": 19,
   "metadata": {},
   "outputs": [],
   "source": []
  },
  {
   "cell_type": "code",
   "execution_count": null,
   "metadata": {},
   "outputs": [],
   "source": []
  },
  {
   "cell_type": "code",
   "execution_count": null,
   "metadata": {},
   "outputs": [],
   "source": []
  }
 ],
 "metadata": {
  "kernelspec": {
   "display_name": "Python 3",
   "language": "python",
   "name": "python3"
  },
  "language_info": {
   "codemirror_mode": {
    "name": "ipython",
    "version": 3
   },
   "file_extension": ".py",
   "mimetype": "text/x-python",
   "name": "python",
   "nbconvert_exporter": "python",
   "pygments_lexer": "ipython3",
   "version": "3.6.5"
  }
 },
 "nbformat": 4,
 "nbformat_minor": 2
}
