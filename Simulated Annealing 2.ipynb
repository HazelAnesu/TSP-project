{
 "cells": [
  {
   "cell_type": "code",
   "execution_count": 2,
   "metadata": {},
   "outputs": [],
   "source": [
    "import numpy as np\n",
    "from itertools import permutations\n",
    "# useful additional packages \n",
    "from random import sample \n",
    "import matplotlib.pyplot as plt\n",
    "import matplotlib.axes as axes\n",
    "%matplotlib inline\n",
    "import numpy as np\n",
    "import networkx as nx\n",
    "import itertools\n",
    "from math import *\n",
    "import timeit\n",
    "import random\n",
    "import time\n",
    "import decimal\n",
    "from qiskit import BasicAer\n",
    "from qiskit.tools.visualization import plot_histogram\n",
    "from qiskit.optimization.ising import max_cut, tsp\n",
    "from qiskit.aqua.algorithms import VQE, ExactEigensolver\n",
    "from qiskit.aqua.components.optimizers import SPSA\n",
    "from qiskit.aqua.components.variational_forms import RY\n",
    "from qiskit.aqua import QuantumInstance\n",
    "from qiskit.optimization.ising.common import sample_most_likely\n",
    "import seaborn as sns\n",
    "\n",
    "# setup aqua logging\n",
    "import logging\n",
    "from qiskit.aqua import set_qiskit_aqua_logging"
   ]
  },
  {
   "cell_type": "code",
   "execution_count": 3,
   "metadata": {},
   "outputs": [],
   "source": [
    "G = []\n",
    "p = [4,5,6,7,8,9,10,11]\n",
    "q = [i**(2) for i in p ]\n",
    "m = 0\n",
    "v = open(\"Matrices.txt\"  , \"r\")\n",
    "w = v.read().split()\n",
    "for i in range (len(w)):\n",
    "    w[i] = int(float(w[i]))\n",
    "for i in range (len(q)):\n",
    "    G.append(np.reshape(w[m:m+q[i]] , (p[i] , p[i])))\n",
    "    m = m + q[i]\n",
    "# print('Completed Successfully')"
   ]
  },
  {
   "cell_type": "code",
   "execution_count": 4,
   "metadata": {},
   "outputs": [],
   "source": [
    "S = [\"gr17.tsp.txt\" ,\"gr21.tsp.txt\",  \"gr24.tsp.txt\" , \"dantzig42.tsp.txt\" , \"hk48.tsp.txt\", \"gr48.tsp.txt\"]\n",
    "nu = [17,21,24,42,48,48]\n",
    "# K = []\n",
    "for i in range(len(nu)):\n",
    "    g = open(S[i]  , \"r\")\n",
    "    f = g.read().split()\n",
    "    r = np.zeros((nu[i],nu[i]))\n",
    "    n = []\n",
    "    for i in range(len(f)):\n",
    "        f[i] = int(f[i])\n",
    "        if f[i] != 0:\n",
    "            n.append(f[i])\n",
    "    count = 0\n",
    "    h = 0\n",
    "    for l in range(0, len(r)):\n",
    "        h = 0\n",
    "        if l != h:\n",
    "            p = l\n",
    "            while p != h:\n",
    "                r[p,h] = n[count]\n",
    "                count = count + 1\n",
    "                h = h + 1                \n",
    "    C = r + r.T\n",
    "    G.append(C)"
   ]
  },
  {
   "cell_type": "code",
   "execution_count": 5,
   "metadata": {},
   "outputs": [],
   "source": [
    "g = open(\"brazil58.tsp.txt\"  , \"r\")\n",
    "f = g.read().split()\n",
    "r = np.zeros((58,58))\n",
    "n = []\n",
    "for i in range(len(f)):\n",
    "    f[i] = int(f[i])\n",
    "    if f[i] != 0:\n",
    "        n.append(f[i])\n",
    "count = 0\n",
    "for j in range (len(r)):\n",
    "    for k in range(j+1,len(r)):\n",
    "        if j != k:\n",
    "            r[j,k] = n[count]\n",
    "            count = count + 1\n",
    "G.append(r+r.T)"
   ]
  },
  {
   "cell_type": "code",
   "execution_count": 6,
   "metadata": {},
   "outputs": [],
   "source": [
    "def eva(x,M):\n",
    "    z=0\n",
    "    for i in range (len(M)-1):\n",
    "        z = z + M[x[i],x[i+1]]\n",
    "    z = z + M[x[-1] , x[0]]\n",
    "    return z"
   ]
  },
  {
   "cell_type": "code",
   "execution_count": 7,
   "metadata": {},
   "outputs": [],
   "source": [
    "def SimuAnealing(A, T , alpha , L,tol,m):\n",
    "    f = np.array(sample(list(np.arange(len(A))),len(A) ))\n",
    "#     f = np.arange(len(A))\n",
    "    p = eva(f,A) \n",
    "    while T > tol:\n",
    "        for h in range (L):\n",
    "            q = np.random.randint(len(A) )\n",
    "            q1 =  np.random.randint(len(A) )\n",
    "            q2 = np.random.randint(len(A))\n",
    "\n",
    "            \n",
    "            f = f\n",
    "            g = [i for i in f]\n",
    "            if T > m :\n",
    "                #3 opt swap \n",
    "#             g = np.array(sample(list(np.arange(len(A))),len(A) ))\n",
    "                temp1 = g[q]\n",
    "                g[q]  = g[q1]\n",
    "                g[q1] = g[q2]\n",
    "                g[q2] = temp1\n",
    "            else:\n",
    "                #2 opt swap\n",
    "                temp1 = g[q]\n",
    "                g[q] = g[q1]\n",
    "                g[q1] = temp1\n",
    "\n",
    "            x = eva(g,A)\n",
    "            if p > x:\n",
    "                p = x\n",
    "                f = g\n",
    "            else:\n",
    "                prob = np.exp(-(x-p)/T)\n",
    "                if prob > np.random.random():\n",
    "                    p = x\n",
    "                    f = g\n",
    "        T = alpha*T\n",
    "\n",
    "        # print(p)\n",
    "    return p "
   ]
  },
  {
   "cell_type": "code",
   "execution_count": 11,
   "metadata": {},
   "outputs": [],
   "source": [
    "# for j in range(30):\n",
    "#     print(SimuAnealing(G[-1], 20 , 0.99 , 20,10**(-3),1))"
   ]
  },
  {
   "cell_type": "code",
   "execution_count": 9,
   "metadata": {},
   "outputs": [],
   "source": [
    "#Grid Search for SA\n",
    "def grid(A):\n",
    "    np.random.seed(20)\n",
    "    alphas =  np.arange(0.9,1,0.01)\n",
    "    temps = np.arange(10,50,5)\n",
    "    markov = np.arange(10,50,5)\n",
    "    tol = np.arange(10**(-5) , 10**(-3) , 0.0001)\n",
    "    w = np.arange(1,10,1)\n",
    "    s = []\n",
    "    for i in range (len(temps)):\n",
    "        for j in range(len(markov)):\n",
    "            for k in range (len(alphas)): \n",
    "                for l in range (len(tol)):\n",
    "                    for x in range(len(w)):\n",
    "                        \n",
    "                        T = temps[i]\n",
    "                        alpha = alphas[k]\n",
    "                        L = markov[j]\n",
    "                        tolz= tol[l]\n",
    "                        m = w[x]\n",
    "                        s.append((SimuAnealing(A, T , alpha , L , tolz , m) , T, alpha, L,tolz,m))\n",
    "    return(min(s))"
   ]
  },
  {
   "cell_type": "code",
   "execution_count": null,
   "metadata": {},
   "outputs": [],
   "source": [
    "R = np.zeros((15,6))"
   ]
  },
  {
   "cell_type": "code",
   "execution_count": null,
   "metadata": {},
   "outputs": [],
   "source": [
    "for i in range(len(G)):\n",
    "    t = grid(G[i])\n",
    "    R[i,0] = len(G[i])\n",
    "    R[i,1] = t[0] #temp\n",
    "    R[i,2] =t[1] #alpha\n",
    "    R[i,3] =t[2] #markov\n",
    "    R[i,4] =t[3] #tol\n",
    "    R[i,5] =t[4] #ratio\n",
    "    print(grid(G[i]))"
   ]
  },
  {
   "cell_type": "code",
   "execution_count": null,
   "metadata": {},
   "outputs": [],
   "source": []
  }
 ],
 "metadata": {
  "kernelspec": {
   "display_name": "Python 3",
   "language": "python",
   "name": "python3"
  },
  "language_info": {
   "codemirror_mode": {
    "name": "ipython",
    "version": 3
   },
   "file_extension": ".py",
   "mimetype": "text/x-python",
   "name": "python",
   "nbconvert_exporter": "python",
   "pygments_lexer": "ipython3",
   "version": "3.6.5"
  }
 },
 "nbformat": 4,
 "nbformat_minor": 2
}
